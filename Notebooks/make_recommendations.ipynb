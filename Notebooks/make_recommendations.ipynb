{
 "cells": [
  {
   "cell_type": "markdown",
   "metadata": {},
   "source": [
    "The goal of this notebook is to make functions to make recommendations on the data we had"
   ]
  },
  {
   "cell_type": "code",
   "execution_count": 1,
   "metadata": {},
   "outputs": [],
   "source": [
    "import pandas as pd"
   ]
  },
  {
   "cell_type": "code",
   "execution_count": 3,
   "metadata": {},
   "outputs": [],
   "source": [
    "sim = pd.read_csv('../data/recommendation_matrix.csv')\n",
    "sim_1 = pd.read_csv('../data/recommendation_matrix_wo_tfidf.csv')\n",
    "df = pd.read_csv('../data/recomm_df')"
   ]
  },
  {
   "cell_type": "markdown",
   "metadata": {},
   "source": [
    "**sim** : similarity matrix \n",
    "\n",
    "**sim_1** : similarity matrix made without using tfidf\n",
    "\n",
    "**df** : dataframe with all the internships"
   ]
  },
  {
   "cell_type": "code",
   "execution_count": 3,
   "metadata": {},
   "outputs": [],
   "source": [
    "# setting id column as index\n",
    "sim.set_index('id', inplace = True)\n",
    "sim_1.set_index('id', inplace = True)"
   ]
  },
  {
   "cell_type": "code",
   "execution_count": 4,
   "metadata": {},
   "outputs": [],
   "source": [
    "def make_recs(sim, df, i, n):\n",
    "    '''\n",
    "    this function will return a dataframe of top n recommendations, based on the similarity matrix provided and dataframe \n",
    "    provided, for a user who viewed the internship with the ith ID.\n",
    "    \n",
    "    '''\n",
    "    ith_series = sim.loc[:,str(i)]\n",
    "    ith_series = ith_series.sort_values(ascending = False)\n",
    "    recs = ith_series.head(n+1).index.tolist()\n",
    "    recs.remove(i)\n",
    "    recs_df = df[df.id.isin(recs)]\n",
    "    return recs_df"
   ]
  },
  {
   "cell_type": "markdown",
   "metadata": {},
   "source": [
    "### for sim :"
   ]
  },
  {
   "cell_type": "code",
   "execution_count": 134,
   "metadata": {},
   "outputs": [
    {
     "data": {
      "text/html": [
       "<div>\n",
       "<style scoped>\n",
       "    .dataframe tbody tr th:only-of-type {\n",
       "        vertical-align: middle;\n",
       "    }\n",
       "\n",
       "    .dataframe tbody tr th {\n",
       "        vertical-align: top;\n",
       "    }\n",
       "\n",
       "    .dataframe thead th {\n",
       "        text-align: right;\n",
       "    }\n",
       "</style>\n",
       "<table border=\"1\" class=\"dataframe\">\n",
       "  <thead>\n",
       "    <tr style=\"text-align: right;\">\n",
       "      <th></th>\n",
       "      <th>id</th>\n",
       "      <th>job_title</th>\n",
       "      <th>company_name</th>\n",
       "      <th>job_loc</th>\n",
       "      <th>details</th>\n",
       "      <th>category</th>\n",
       "      <th>compensation</th>\n",
       "      <th>start</th>\n",
       "      <th>end</th>\n",
       "      <th>skills</th>\n",
       "      <th>href</th>\n",
       "    </tr>\n",
       "  </thead>\n",
       "  <tbody>\n",
       "    <tr>\n",
       "      <th>649</th>\n",
       "      <td>650</td>\n",
       "      <td>asp.net c# developer</td>\n",
       "      <td>dataligence infotech pvt ltd</td>\n",
       "      <td>ahmedabad</td>\n",
       "      <td>we are looking for hardworking ...</td>\n",
       "      <td>software developer : c#</td>\n",
       "      <td>paid</td>\n",
       "      <td>2019-02-27</td>\n",
       "      <td>2020-02-27</td>\n",
       "      <td>c#,asp,sql server</td>\n",
       "      <td>http://letsintern.com/internship/Software-Deve...</td>\n",
       "    </tr>\n",
       "  </tbody>\n",
       "</table>\n",
       "</div>"
      ],
      "text/plain": [
       "      id             job_title                  company_name    job_loc  \\\n",
       "649  650  asp.net c# developer  dataligence infotech pvt ltd  ahmedabad   \n",
       "\n",
       "                                               details  \\\n",
       "649                 we are looking for hardworking ...   \n",
       "\n",
       "                    category compensation       start         end  \\\n",
       "649  software developer : c#         paid  2019-02-27  2020-02-27   \n",
       "\n",
       "                                  skills  \\\n",
       "649                    c#,asp,sql server   \n",
       "\n",
       "                                                  href  \n",
       "649  http://letsintern.com/internship/Software-Deve...  "
      ]
     },
     "execution_count": 134,
     "metadata": {},
     "output_type": "execute_result"
    }
   ],
   "source": [
    "df[df.id == 650]"
   ]
  },
  {
   "cell_type": "code",
   "execution_count": 135,
   "metadata": {},
   "outputs": [
    {
     "data": {
      "text/html": [
       "<div>\n",
       "<style scoped>\n",
       "    .dataframe tbody tr th:only-of-type {\n",
       "        vertical-align: middle;\n",
       "    }\n",
       "\n",
       "    .dataframe tbody tr th {\n",
       "        vertical-align: top;\n",
       "    }\n",
       "\n",
       "    .dataframe thead th {\n",
       "        text-align: right;\n",
       "    }\n",
       "</style>\n",
       "<table border=\"1\" class=\"dataframe\">\n",
       "  <thead>\n",
       "    <tr style=\"text-align: right;\">\n",
       "      <th></th>\n",
       "      <th>id</th>\n",
       "      <th>job_title</th>\n",
       "      <th>company_name</th>\n",
       "      <th>job_loc</th>\n",
       "      <th>details</th>\n",
       "      <th>category</th>\n",
       "      <th>compensation</th>\n",
       "      <th>start</th>\n",
       "      <th>end</th>\n",
       "      <th>skills</th>\n",
       "      <th>href</th>\n",
       "    </tr>\n",
       "  </thead>\n",
       "  <tbody>\n",
       "    <tr>\n",
       "      <th>66</th>\n",
       "      <td>67</td>\n",
       "      <td>web developer</td>\n",
       "      <td>amplus</td>\n",
       "      <td>bangalore</td>\n",
       "      <td>mplus as software service provi...</td>\n",
       "      <td>web developer</td>\n",
       "      <td>paid</td>\n",
       "      <td>2019-02-28</td>\n",
       "      <td>2019-05-31</td>\n",
       "      <td>ajax</td>\n",
       "      <td>http://letsintern.com/internship/Web-Developer...</td>\n",
       "    </tr>\n",
       "    <tr>\n",
       "      <th>107</th>\n",
       "      <td>108</td>\n",
       "      <td>web developer</td>\n",
       "      <td>amplus</td>\n",
       "      <td>anywhere in india</td>\n",
       "      <td>mplus as software service provi...</td>\n",
       "      <td>web developer</td>\n",
       "      <td>paid</td>\n",
       "      <td>2019-02-28</td>\n",
       "      <td>2019-05-31</td>\n",
       "      <td>no skills preferred</td>\n",
       "      <td>http://letsintern.com/internship/Web-Developer...</td>\n",
       "    </tr>\n",
       "    <tr>\n",
       "      <th>331</th>\n",
       "      <td>332</td>\n",
       "      <td>asp.net c# developer</td>\n",
       "      <td>dataligence infotech pvt ltd</td>\n",
       "      <td>ahmedabad</td>\n",
       "      <td>we are looking for hardworking ...</td>\n",
       "      <td>software developer : c#</td>\n",
       "      <td>paid</td>\n",
       "      <td>2019-02-27</td>\n",
       "      <td>2020-02-27</td>\n",
       "      <td>c#,asp,sql server</td>\n",
       "      <td>http://letsintern.com/internship/Software-Deve...</td>\n",
       "    </tr>\n",
       "  </tbody>\n",
       "</table>\n",
       "</div>"
      ],
      "text/plain": [
       "      id             job_title                  company_name  \\\n",
       "66    67         web developer                        amplus   \n",
       "107  108         web developer                        amplus   \n",
       "331  332  asp.net c# developer  dataligence infotech pvt ltd   \n",
       "\n",
       "               job_loc                                            details  \\\n",
       "66           bangalore                 mplus as software service provi...   \n",
       "107  anywhere in india                 mplus as software service provi...   \n",
       "331          ahmedabad                 we are looking for hardworking ...   \n",
       "\n",
       "                    category compensation       start         end  \\\n",
       "66             web developer         paid  2019-02-28  2019-05-31   \n",
       "107            web developer         paid  2019-02-28  2019-05-31   \n",
       "331  software developer : c#         paid  2019-02-27  2020-02-27   \n",
       "\n",
       "                                    skills  \\\n",
       "66                                    ajax   \n",
       "107                    no skills preferred   \n",
       "331                      c#,asp,sql server   \n",
       "\n",
       "                                                  href  \n",
       "66   http://letsintern.com/internship/Web-Developer...  \n",
       "107  http://letsintern.com/internship/Web-Developer...  \n",
       "331  http://letsintern.com/internship/Software-Deve...  "
      ]
     },
     "execution_count": 135,
     "metadata": {},
     "output_type": "execute_result"
    }
   ],
   "source": [
    "make_recs(sim, df, 650, 3)"
   ]
  },
  {
   "cell_type": "markdown",
   "metadata": {},
   "source": [
    "### for sim_1 :"
   ]
  },
  {
   "cell_type": "code",
   "execution_count": 136,
   "metadata": {},
   "outputs": [
    {
     "data": {
      "text/html": [
       "<div>\n",
       "<style scoped>\n",
       "    .dataframe tbody tr th:only-of-type {\n",
       "        vertical-align: middle;\n",
       "    }\n",
       "\n",
       "    .dataframe tbody tr th {\n",
       "        vertical-align: top;\n",
       "    }\n",
       "\n",
       "    .dataframe thead th {\n",
       "        text-align: right;\n",
       "    }\n",
       "</style>\n",
       "<table border=\"1\" class=\"dataframe\">\n",
       "  <thead>\n",
       "    <tr style=\"text-align: right;\">\n",
       "      <th></th>\n",
       "      <th>id</th>\n",
       "      <th>job_title</th>\n",
       "      <th>company_name</th>\n",
       "      <th>job_loc</th>\n",
       "      <th>details</th>\n",
       "      <th>category</th>\n",
       "      <th>compensation</th>\n",
       "      <th>start</th>\n",
       "      <th>end</th>\n",
       "      <th>skills</th>\n",
       "      <th>href</th>\n",
       "    </tr>\n",
       "  </thead>\n",
       "  <tbody>\n",
       "    <tr>\n",
       "      <th>331</th>\n",
       "      <td>332</td>\n",
       "      <td>asp.net c# developer</td>\n",
       "      <td>dataligence infotech pvt ltd</td>\n",
       "      <td>ahmedabad</td>\n",
       "      <td>we are looking for hardworking ...</td>\n",
       "      <td>software developer : c#</td>\n",
       "      <td>paid</td>\n",
       "      <td>2019-02-27</td>\n",
       "      <td>2020-02-27</td>\n",
       "      <td>c#,asp,sql server</td>\n",
       "      <td>http://letsintern.com/internship/Software-Deve...</td>\n",
       "    </tr>\n",
       "    <tr>\n",
       "      <th>332</th>\n",
       "      <td>333</td>\n",
       "      <td>wordpress developer</td>\n",
       "      <td>trippyigloo</td>\n",
       "      <td>bangalore</td>\n",
       "      <td>we are looking for an experienc...</td>\n",
       "      <td>web developer : php</td>\n",
       "      <td>paid</td>\n",
       "      <td>2019-03-26</td>\n",
       "      <td>NaN</td>\n",
       "      <td>html5,javascript,php,jquery,...</td>\n",
       "      <td>http://letsintern.com/internship/Web-Developer...</td>\n",
       "    </tr>\n",
       "    <tr>\n",
       "      <th>448</th>\n",
       "      <td>449</td>\n",
       "      <td>software development internship for 2015 passi...</td>\n",
       "      <td>amplus</td>\n",
       "      <td>bangalore</td>\n",
       "      <td>? the selected candidates will have to undergo...</td>\n",
       "      <td>web developer</td>\n",
       "      <td>unpaid</td>\n",
       "      <td>2015-01-01</td>\n",
       "      <td>2015-03-31</td>\n",
       "      <td>computer science,servlets an...</td>\n",
       "      <td>http://letsintern.com/internship/Web-Developer...</td>\n",
       "    </tr>\n",
       "  </tbody>\n",
       "</table>\n",
       "</div>"
      ],
      "text/plain": [
       "      id                                          job_title  \\\n",
       "331  332                               asp.net c# developer   \n",
       "332  333                                wordpress developer   \n",
       "448  449  software development internship for 2015 passi...   \n",
       "\n",
       "                     company_name    job_loc  \\\n",
       "331  dataligence infotech pvt ltd  ahmedabad   \n",
       "332                   trippyigloo  bangalore   \n",
       "448                        amplus  bangalore   \n",
       "\n",
       "                                               details  \\\n",
       "331                 we are looking for hardworking ...   \n",
       "332                 we are looking for an experienc...   \n",
       "448  ? the selected candidates will have to undergo...   \n",
       "\n",
       "                    category compensation       start         end  \\\n",
       "331  software developer : c#         paid  2019-02-27  2020-02-27   \n",
       "332      web developer : php         paid  2019-03-26         NaN   \n",
       "448            web developer       unpaid  2015-01-01  2015-03-31   \n",
       "\n",
       "                                                skills  \\\n",
       "331                                  c#,asp,sql server   \n",
       "332                    html5,javascript,php,jquery,...   \n",
       "448                    computer science,servlets an...   \n",
       "\n",
       "                                                  href  \n",
       "331  http://letsintern.com/internship/Software-Deve...  \n",
       "332  http://letsintern.com/internship/Web-Developer...  \n",
       "448  http://letsintern.com/internship/Web-Developer...  "
      ]
     },
     "execution_count": 136,
     "metadata": {},
     "output_type": "execute_result"
    }
   ],
   "source": [
    "make_recs(sim_1, df, 650, 3)"
   ]
  },
  {
   "cell_type": "markdown",
   "metadata": {},
   "source": [
    "Find a way to filter out duplicates on the basis of checking just the job title, company name, details and location"
   ]
  }
 ],
 "metadata": {
  "kernelspec": {
   "display_name": "Python 3",
   "language": "python",
   "name": "python3"
  },
  "language_info": {
   "codemirror_mode": {
    "name": "ipython",
    "version": 3
   },
   "file_extension": ".py",
   "mimetype": "text/x-python",
   "name": "python",
   "nbconvert_exporter": "python",
   "pygments_lexer": "ipython3",
   "version": "3.6.5"
  }
 },
 "nbformat": 4,
 "nbformat_minor": 2
}
