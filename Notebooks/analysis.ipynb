{
 "cells": [
  {
   "cell_type": "markdown",
   "metadata": {},
   "source": [
    "The goal of this notebook to allow us to analyze the dataset and hopefully draw some interesting conclusions"
   ]
  },
  {
   "cell_type": "code",
   "execution_count": 15,
   "metadata": {},
   "outputs": [],
   "source": [
    "import pandas as pd\n",
    "import matplotlib.pyplot as plt\n",
    "import seaborn as sns\n",
    "%matplotlib inline"
   ]
  },
  {
   "cell_type": "code",
   "execution_count": 9,
   "metadata": {},
   "outputs": [],
   "source": [
    "df = pd.read_csv('../data/recomm_df_w_dummies.csv')"
   ]
  },
  {
   "cell_type": "code",
   "execution_count": 10,
   "metadata": {},
   "outputs": [
    {
     "data": {
      "text/plain": [
       "(626, 325)"
      ]
     },
     "execution_count": 10,
     "metadata": {},
     "output_type": "execute_result"
    }
   ],
   "source": [
    "df.shape"
   ]
  },
  {
   "cell_type": "code",
   "execution_count": 11,
   "metadata": {},
   "outputs": [
    {
     "data": {
      "text/html": [
       "<div>\n",
       "<style scoped>\n",
       "    .dataframe tbody tr th:only-of-type {\n",
       "        vertical-align: middle;\n",
       "    }\n",
       "\n",
       "    .dataframe tbody tr th {\n",
       "        vertical-align: top;\n",
       "    }\n",
       "\n",
       "    .dataframe thead th {\n",
       "        text-align: right;\n",
       "    }\n",
       "</style>\n",
       "<table border=\"1\" class=\"dataframe\">\n",
       "  <thead>\n",
       "    <tr style=\"text-align: right;\">\n",
       "      <th></th>\n",
       "      <th>id</th>\n",
       "      <th>job_title</th>\n",
       "      <th>company_name</th>\n",
       "      <th>details</th>\n",
       "      <th>category</th>\n",
       "      <th>compensation</th>\n",
       "      <th>start</th>\n",
       "      <th>end</th>\n",
       "      <th>href</th>\n",
       "      <th>skills_.net</th>\n",
       "      <th>...</th>\n",
       "      <th>job_loc_trichy</th>\n",
       "      <th>job_loc_uluberia</th>\n",
       "      <th>job_loc_uttar dinajpur</th>\n",
       "      <th>job_loc_uttarkashi</th>\n",
       "      <th>job_loc_varanasi</th>\n",
       "      <th>job_loc_vijayapur</th>\n",
       "      <th>job_loc_vijayawada</th>\n",
       "      <th>job_loc_visakhapatnam</th>\n",
       "      <th>job_loc_west midnapore</th>\n",
       "      <th>job_loc_zirakpur</th>\n",
       "    </tr>\n",
       "  </thead>\n",
       "  <tbody>\n",
       "    <tr>\n",
       "      <th>0</th>\n",
       "      <td>1</td>\n",
       "      <td>hr executive - recruitment</td>\n",
       "      <td>engenia technologies</td>\n",
       "      <td>we are seeking a hr recruiter w...</td>\n",
       "      <td>human resources recruiter</td>\n",
       "      <td>paid</td>\n",
       "      <td>2019-03-02</td>\n",
       "      <td>2019-08-28</td>\n",
       "      <td>http://letsintern.com/internship/Human-Resourc...</td>\n",
       "      <td>0</td>\n",
       "      <td>...</td>\n",
       "      <td>0</td>\n",
       "      <td>0</td>\n",
       "      <td>0</td>\n",
       "      <td>0</td>\n",
       "      <td>0</td>\n",
       "      <td>0</td>\n",
       "      <td>0</td>\n",
       "      <td>0</td>\n",
       "      <td>0</td>\n",
       "      <td>0</td>\n",
       "    </tr>\n",
       "  </tbody>\n",
       "</table>\n",
       "<p>1 rows × 325 columns</p>\n",
       "</div>"
      ],
      "text/plain": [
       "   id                   job_title          company_name  \\\n",
       "0   1  hr executive - recruitment  engenia technologies   \n",
       "\n",
       "                                             details  \\\n",
       "0                 we are seeking a hr recruiter w...   \n",
       "\n",
       "                    category compensation       start         end  \\\n",
       "0  human resources recruiter         paid  2019-03-02  2019-08-28   \n",
       "\n",
       "                                                href  skills_.net  \\\n",
       "0  http://letsintern.com/internship/Human-Resourc...            0   \n",
       "\n",
       "         ...         job_loc_trichy  job_loc_uluberia  job_loc_uttar dinajpur  \\\n",
       "0        ...                      0                 0                       0   \n",
       "\n",
       "   job_loc_uttarkashi  job_loc_varanasi  job_loc_vijayapur  \\\n",
       "0                   0                 0                  0   \n",
       "\n",
       "   job_loc_vijayawada  job_loc_visakhapatnam  job_loc_west midnapore  \\\n",
       "0                   0                      0                       0   \n",
       "\n",
       "   job_loc_zirakpur  \n",
       "0                 0  \n",
       "\n",
       "[1 rows x 325 columns]"
      ]
     },
     "execution_count": 11,
     "metadata": {},
     "output_type": "execute_result"
    }
   ],
   "source": [
    "df.head(1)"
   ]
  },
  {
   "cell_type": "markdown",
   "metadata": {},
   "source": [
    "Some potential questions that can be answered with the data :\n",
    "\n",
    "1. What are the most common types of category of internships ?\n",
    "2. For each category of internship, find the area/state/city where the max no. of internships are offered.\n",
    "3. What are the most in demand skills ? \n",
    "4. Which skills are most required for each category ?\n",
    "5. Think of statistical tests that you can apply to this data as it is a sample."
   ]
  },
  {
   "cell_type": "markdown",
   "metadata": {},
   "source": [
    "### 1. What are the most common types of category of internships ?"
   ]
  },
  {
   "cell_type": "markdown",
   "metadata": {},
   "source": [
    "The categories we are dividing the data into are : \n",
    "\n",
    "hr, management, it, finance, marketing_sales, engineering, customer_service, design, social_work, teaching, air_related, research and business_related "
   ]
  },
  {
   "cell_type": "code",
   "execution_count": 55,
   "metadata": {},
   "outputs": [],
   "source": [
    "def get_cat_items(cat, df = df):\n",
    "    '''\n",
    "    returns a dataframe that has the internships related to that category\n",
    "    '''\n",
    "    # making some common job categories\n",
    "    # these are extremely broad categories. I am pretty sure that I am missing some categories\n",
    "    # these categoires have been derived/picked up from letsintern's landing page as we had picked up the data from there\n",
    "\n",
    "    # defining some rules to put items into categories\n",
    "    if cat == 'management':\n",
    "        return df[df.category.str.contains('manag')]\n",
    "    if cat == 'hr':\n",
    "        return df[df.category.str.contains('human|scout')]\n",
    "    if cat == 'it':\n",
    "        return df[df.category.str.contains('it |computer|information tech|developer|software')]\n",
    "    if cat == 'finance':\n",
    "        return df[df.category.str.contains('account|bank|financ')]\n",
    "    if cat == 'marketing_sales':\n",
    "        return df[df.category.str.contains('market|social media|sale|brand|seo|google analytic|content')]\n",
    "    if cat == 'engineering':\n",
    "        return df[df.category.str.contains('engineer')]\n",
    "    if cat == 'customer_service':\n",
    "        return df[df.category.str.contains('customer')]\n",
    "    if cat == 'design':\n",
    "        return df[df.category.str.contains('design| art |graphic')]\n",
    "    if cat == 'social_work':\n",
    "        return df[df.category.str.contains('social work|ngo|n.g.o')]\n",
    "    if cat == 'teaching':\n",
    "        return df[df.category.str.contains('teach')]\n",
    "    if cat == 'air_related':\n",
    "        return df[df.category.str.contains('air|plane|pilot|hostess')]\n",
    "    if cat == 'research':\n",
    "        return df[df.category.str.contains('research')]\n",
    "    if cat == 'business_related':\n",
    "        return df[df.category.str.contains('business')]\n"
   ]
  },
  {
   "cell_type": "code",
   "execution_count": 60,
   "metadata": {},
   "outputs": [],
   "source": [
    "# plotting the different categories\n",
    "cats = 'hr,management,it,finance,marketing_sales,engineering,customer_service,design,social_work,teaching,\\\n",
    "air_related,research,business_related'.split(',')"
   ]
  },
  {
   "cell_type": "code",
   "execution_count": 69,
   "metadata": {},
   "outputs": [],
   "source": [
    "len_cats = [get_cat_items(i).shape[0] for i in cats]\n",
    "percent_cats = [i/sum(len_cats) for i in len_cats]"
   ]
  },
  {
   "cell_type": "code",
   "execution_count": 70,
   "metadata": {},
   "outputs": [
    {
     "data": {
      "text/plain": [
       "<BarContainer object of 13 artists>"
      ]
     },
     "execution_count": 70,
     "metadata": {},
     "output_type": "execute_result"
    },
    {
     "data": {
      "image/png": "[encoded data removed]",
      "text/plain": [
       "<Figure size 1440x504 with 1 Axes>"
      ]
     },
     "metadata": {},
     "output_type": "display_data"
    }
   ],
   "source": [
    "plt.figure(figsize = (20,7))\n",
    "plt.bar(x = cats, height = percent_cats)"
   ]
  },
  {
   "cell_type": "markdown",
   "metadata": {},
   "source": [
    "Markteting and sales managed to top the list which was a little obvious since there were both sales and marketing internships mixed in this category. But even then, the percentage is just a little less of the double of that of finance. Finance came in 2nd which I orginally thought would be occupied by IT as thats a huge sector with a lot of internship openings usually. IT came in 3rd followed by management."
   ]
  },
  {
   "cell_type": "markdown",
   "metadata": {},
   "source": [
    "Its sad to see that the number of internships for social work was really low, the lowest among all categories. It is possible that some may have been missed out due to lack of keywords used to identify social work internships, but even given that, the number is pretty small."
   ]
  },
  {
   "cell_type": "markdown",
   "metadata": {},
   "source": [
    "### 2. For each category of internship, find the area/state/city where the max no. of that category's internships are offered for."
   ]
  },
  {
   "cell_type": "code",
   "execution_count": 95,
   "metadata": {},
   "outputs": [
    {
     "name": "stdout",
     "output_type": "stream",
     "text": [
      "hr\n",
      "['anywhere in india', 'kolkata']\n",
      "------\n",
      "management\n",
      "['mumbai', 'bangalore']\n",
      "------\n",
      "it\n",
      "['bangalore', 'anywhere in india']\n",
      "------\n",
      "finance\n",
      "['kolkata', 'howrah']\n",
      "------\n",
      "marketing_sales\n",
      "['mumbai', 'bangalore']\n",
      "------\n",
      "engineering\n",
      "['delhi', 'chennai']\n",
      "------\n",
      "customer_service\n",
      "['kolkata', 'delhi']\n",
      "------\n",
      "design\n",
      "['bangalore', 'anywhere in india']\n",
      "------\n",
      "social_work\n",
      "['mumbai', 'hyderabad']\n",
      "------\n",
      "teaching\n",
      "['anywhere in india', 'ahmedabad']\n",
      "------\n",
      "air_related\n",
      "['kolkata', 'bhubaneswar']\n",
      "------\n",
      "research\n",
      "['mumbai', 'chennai']\n",
      "------\n",
      "business_related\n",
      "['mumbai', 'bangalore']\n",
      "------\n"
     ]
    }
   ],
   "source": [
    "# the top 2 places where interships for each category are max have been listed below\n",
    "for i in cats:\n",
    "    # df for a particular category is returned\n",
    "    df_temp = get_cat_items(i)\n",
    "    # top 2 places are selected by taking the sum of values under the 'job location' columns\n",
    "    top_2 = df_temp[df_temp.columns[df_temp.columns.str.contains('job_loc')]].sum(axis = 0).sort_values(ascending = False).head(2).index.tolist()\n",
    "    # 'job_loc' is removed from all entries for clean results\n",
    "    top_2 = [i[8:] for i in top_2]\n",
    "    print(i)\n",
    "    print(top_2)\n",
    "    print('------')"
   ]
  },
  {
   "cell_type": "code",
   "execution_count": 96,
   "metadata": {},
   "outputs": [
    {
     "data": {
      "text/plain": [
       "job_loc_kolkata              120\n",
       "job_loc_bangalore            111\n",
       "job_loc_mumbai                97\n",
       "job_loc_delhi                 87\n",
       "job_loc_anywhere in india     86\n",
       "dtype: int64"
      ]
     },
     "execution_count": 96,
     "metadata": {},
     "output_type": "execute_result"
    }
   ],
   "source": [
    "# maximum internships openings are in ? \n",
    "df[df.columns[df.columns.str.contains('job_loc')]].sum(axis = 0).sort_values(ascending = False).head(5)"
   ]
  },
  {
   "cell_type": "markdown",
   "metadata": {},
   "source": [
    "### 3. What are the most in demand skills ? "
   ]
  },
  {
   "cell_type": "code",
   "execution_count": 130,
   "metadata": {},
   "outputs": [
    {
     "data": {
      "text/plain": [
       "skills_analytical skills    142\n",
       "skills_marketing             65\n",
       "skills_accounting            52\n",
       "skills_agreeableness         49\n",
       "skills_writing skills        45\n",
       "dtype: int64"
      ]
     },
     "execution_count": 130,
     "metadata": {},
     "output_type": "execute_result"
    }
   ],
   "source": [
    "df.iloc[:,df.columns.str.contains('skills')].sum(axis = 0).sort_values(ascending = False).head(5)"
   ]
  },
  {
   "cell_type": "markdown",
   "metadata": {},
   "source": [
    "### 4. Which skills are most required for each category ?"
   ]
  },
  {
   "cell_type": "code",
   "execution_count": 138,
   "metadata": {},
   "outputs": [
    {
     "name": "stdout",
     "output_type": "stream",
     "text": [
      "hr\n",
      "['analytical skills', 'no skills preferred', 'human resource practices']\n",
      "------\n",
      "management\n",
      "['writing skills', 'analytical skills', 'marketing']\n",
      "------\n",
      "it\n",
      "['php', 'javascript', 'html']\n",
      "------\n",
      "finance\n",
      "['accounting', 'analytical skills', 'computer literacy']\n",
      "------\n",
      "marketing_sales\n",
      "['marketing', 'analytical skills', 'digital marketing']\n",
      "------\n",
      "engineering\n",
      "['mechanical engineering', 'electrical engineering', 'production and industrial engineering']\n",
      "------\n",
      "customer_service\n",
      "['customer service situation handling', 'agreeableness', 'customer expectation management']\n",
      "------\n",
      "design\n",
      "['photoshop', 'illustrator', 'design patterns']\n",
      "------\n",
      "social_work\n",
      "['agreeableness', 'leadership skills', 'written english']\n",
      "------\n",
      "teaching\n",
      "['analytical skills', 'spoken english comprehension', 'english comprehension']\n",
      "------\n",
      "air_related\n",
      "['english comprehension', 'analytical skills', 'customer expectation management']\n",
      "------\n",
      "research\n",
      "['analytical skills', 'internet ability', 'ms office']\n",
      "------\n",
      "business_related\n",
      "['analytical skills', 'marketing', 'sales situation handling - basic']\n",
      "------\n"
     ]
    }
   ],
   "source": [
    "for i in cats:\n",
    "    # df for a particular category is returned\n",
    "    df_temp = get_cat_items(i)\n",
    "    # top 2 places are selected by taking the sum of values under the 'job location' columns\n",
    "    top_3 = df_temp.iloc[:,df_temp.columns.str.contains('skills')].sum(axis = 0).sort_values(ascending = False).head(3).index.tolist()\n",
    "    # 'job_loc' is removed from all entries for clean results\n",
    "    top_3 = [i[7:] for i in top_3]\n",
    "    print(i)\n",
    "    print(top_3)\n",
    "    print('------')"
   ]
  }
 ],
 "metadata": {
  "kernelspec": {
   "display_name": "Python 3",
   "language": "python",
   "name": "python3"
  },
  "language_info": {
   "codemirror_mode": {
    "name": "ipython",
    "version": 3
   },
   "file_extension": ".py",
   "mimetype": "text/x-python",
   "name": "python",
   "nbconvert_exporter": "python",
   "pygments_lexer": "ipython3",
   "version": "3.6.5"
  }
 },
 "nbformat": 4,
 "nbformat_minor": 2
}
